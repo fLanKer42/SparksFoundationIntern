{
 "cells": [
  {
   "cell_type": "markdown",
   "metadata": {
    "id": "gMuQq7NogN6-"
   },
   "source": [
    "## **Prediction using Supervised ML**\n",
    "Predict the percentage of an student based on the no. of study hours.<br />\n",
    "This is a simple linear regression task.<br />\n",
    "<hr />\n",
    "Dhruv Rai<br />\n",
    "Third Year Undergraduate Student, IIT Kharagpur"
   ]
  },
  {
   "cell_type": "markdown",
   "metadata": {
    "id": "O9aMUU-dhxef"
   },
   "source": [
    "<hr />importing the libraries"
   ]
  },
  {
   "cell_type": "code",
   "execution_count": 1,
   "metadata": {
    "id": "niRjQUKkhFlQ"
   },
   "outputs": [],
   "source": [
    "import pandas as pd\n",
    "import matplotlib.pyplot as plt\n",
    "import numpy as np"
   ]
  },
  {
   "cell_type": "markdown",
   "metadata": {
    "id": "jkaFKl8Ih7Al"
   },
   "source": [
    "importing the dataset"
   ]
  },
  {
   "cell_type": "code",
   "execution_count": 2,
   "metadata": {
    "colab": {
     "base_uri": "https://localhost:8080/",
     "height": 195
    },
    "id": "oVRFzk7xh8Br",
    "outputId": "876800f8-1d2e-4975-a04f-eeac6874ee8d"
   },
   "outputs": [
    {
     "data": {
      "text/html": [
       "<div>\n",
       "<style scoped>\n",
       "    .dataframe tbody tr th:only-of-type {\n",
       "        vertical-align: middle;\n",
       "    }\n",
       "\n",
       "    .dataframe tbody tr th {\n",
       "        vertical-align: top;\n",
       "    }\n",
       "\n",
       "    .dataframe thead th {\n",
       "        text-align: right;\n",
       "    }\n",
       "</style>\n",
       "<table border=\"1\" class=\"dataframe\">\n",
       "  <thead>\n",
       "    <tr style=\"text-align: right;\">\n",
       "      <th></th>\n",
       "      <th>Hours</th>\n",
       "      <th>Scores</th>\n",
       "    </tr>\n",
       "  </thead>\n",
       "  <tbody>\n",
       "    <tr>\n",
       "      <th>0</th>\n",
       "      <td>2.5</td>\n",
       "      <td>21</td>\n",
       "    </tr>\n",
       "    <tr>\n",
       "      <th>1</th>\n",
       "      <td>5.1</td>\n",
       "      <td>47</td>\n",
       "    </tr>\n",
       "    <tr>\n",
       "      <th>2</th>\n",
       "      <td>3.2</td>\n",
       "      <td>27</td>\n",
       "    </tr>\n",
       "    <tr>\n",
       "      <th>3</th>\n",
       "      <td>8.5</td>\n",
       "      <td>75</td>\n",
       "    </tr>\n",
       "    <tr>\n",
       "      <th>4</th>\n",
       "      <td>3.5</td>\n",
       "      <td>30</td>\n",
       "    </tr>\n",
       "  </tbody>\n",
       "</table>\n",
       "</div>"
      ],
      "text/plain": [
       "   Hours  Scores\n",
       "0    2.5      21\n",
       "1    5.1      47\n",
       "2    3.2      27\n",
       "3    8.5      75\n",
       "4    3.5      30"
      ]
     },
     "execution_count": 2,
     "metadata": {},
     "output_type": "execute_result"
    }
   ],
   "source": [
    "data = pd.read_csv('http://bit.ly/w-data')\n",
    "data.head(5)"
   ]
  },
  {
   "cell_type": "markdown",
   "metadata": {
    "id": "tJqUvSWeiQLc"
   },
   "source": [
    "plotting data on plot to get understanding of the distribution"
   ]
  },
  {
   "cell_type": "code",
   "execution_count": 3,
   "metadata": {
    "colab": {
     "base_uri": "https://localhost:8080/",
     "height": 282
    },
    "id": "1pJIDhpFinOU",
    "outputId": "a7ee595d-ae5a-4c24-bc0b-7d542b225a3f"
   },
   "outputs": [
    {
     "data": {
      "text/plain": [
       "[<matplotlib.lines.Line2D at 0x2e5ab2ec550>]"
      ]
     },
     "execution_count": 3,
     "metadata": {},
     "output_type": "execute_result"
    },
    {
     "data": {
      "image/png": "[encoded data removed]",
      "text/plain": [
       "<Figure size 432x288 with 1 Axes>"
      ]
     },
     "metadata": {
      "needs_background": "light"
     },
     "output_type": "display_data"
    }
   ],
   "source": [
    "plt.plot(data['Hours'],data['Scores'],'ro')"
   ]
  },
  {
   "cell_type": "markdown",
   "metadata": {
    "id": "u8LSMEVSkY6k"
   },
   "source": [
    "Applying linear regression coefficients a and b through numpy.polyfit and using them to find polynomial equation using numpy.poly1d."
   ]
  },
  {
   "cell_type": "code",
   "execution_count": 4,
   "metadata": {
    "colab": {
     "base_uri": "https://localhost:8080/",
     "height": 286
    },
    "id": "ZD_S4RuIlmCA",
    "outputId": "dbc40ab4-768d-489b-c42d-daccc17a8b32"
   },
   "outputs": [
    {
     "data": {
      "text/plain": [
       "[<matplotlib.lines.Line2D at 0x2e5aba84550>]"
      ]
     },
     "execution_count": 4,
     "metadata": {},
     "output_type": "execute_result"
    },
    {
     "data": {
      "image/png": "[encoded data removed]",
      "text/plain": [
       "<Figure size 432x288 with 1 Axes>"
      ]
     },
     "metadata": {
      "needs_background": "light"
     },
     "output_type": "display_data"
    }
   ],
   "source": [
    "plt.plot(data['Hours'],data['Scores'],'ro')\n",
    "plt.axis([0, 10, 0, 100])\n",
    "plt.title('study hours / day vs marks')\n",
    "plt.xlabel('Study hours / day')\n",
    "plt.ylabel('Marks')\n",
    "regressionline = np.poly1d(np.polyfit(data['Hours'], data['Scores'], 1))\n",
    "plt.plot(np.unique(data['Hours']), regressionline(np.unique(data['Hours'])))"
   ]
  },
  {
   "cell_type": "markdown",
   "metadata": {
    "id": "QdzRSrJ0m2Eu"
   },
   "source": [
    "using the polynomial object regressionline, we can predict the score for 9.25hrs/day ."
   ]
  },
  {
   "cell_type": "code",
   "execution_count": 5,
   "metadata": {
    "colab": {
     "base_uri": "https://localhost:8080/"
    },
    "id": "43aMPUVynH_7",
    "outputId": "972c8809-fb64-409b-b8fe-c4d09e0e7bab"
   },
   "outputs": [
    {
     "name": "stdout",
     "output_type": "stream",
     "text": [
      "92.90985477015732\n"
     ]
    }
   ],
   "source": [
    "print(regressionline(9.25))"
   ]
  },
  {
   "cell_type": "markdown",
   "metadata": {
    "id": "KWtofbArnPnc"
   },
   "source": [
    "# **The predicted score for 9.25hrs/day of study is 92.91**"
   ]
  }
 ],
 "metadata": {
  "colab": {
   "name": "Untitled0.ipynb",
   "provenance": []
  },
  "kernelspec": {
   "display_name": "Python 3",
   "language": "python",
   "name": "python3"
  },
  "language_info": {
   "codemirror_mode": {
    "name": "ipython",
    "version": 3
   },
   "file_extension": ".py",
   "mimetype": "text/x-python",
   "name": "python",
   "nbconvert_exporter": "python",
   "pygments_lexer": "ipython3",
   "version": "3.7.3"
  }
 },
 "nbformat": 4,
 "nbformat_minor": 4
}
